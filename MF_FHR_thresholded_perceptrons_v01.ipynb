{
 "cells": [
  {
   "cell_type": "markdown",
   "id": "768272ba",
   "metadata": {},
   "source": [
    "# Thresholded perceptrons\n",
    "\n",
    "This notebook illustrates simple thresholded perceptrons that implement AND and OR, plus a thresholded ensemble of perceptrons that implements XOR\n",
    "\n",
    "You can see that we use the same activation function and weights for AND and OR\n",
    "\n",
    "*What factor differentiates between AND and OR?*\n",
    "\n",
    "*How many linear decision boundaries exist for AND and OR?*\n",
    "\n",
    "You can modify the weights, biases and activation functions, to see how behaviour is affected"
   ]
  },
  {
   "cell_type": "markdown",
   "id": "ea95c14f",
   "metadata": {},
   "source": [
    "## Setup"
   ]
  },
  {
   "cell_type": "code",
   "execution_count": null,
   "id": "eb35ca91",
   "metadata": {},
   "outputs": [],
   "source": [
    "#\n",
    "# Imports, and input data (X)\n",
    "#\n",
    "import numpy as np\n",
    "#\n",
    "X = np.array([[0, 0], [0, 1], [1, 0], [1, 1]], dtype=int)\n",
    "#\n",
    "print(\"X:\")\n",
    "print(X)\n",
    "#"
   ]
  },
  {
   "cell_type": "markdown",
   "id": "485f9d68",
   "metadata": {},
   "source": [
    "## AND"
   ]
  },
  {
   "cell_type": "code",
   "execution_count": null,
   "id": "fd1abea2",
   "metadata": {},
   "outputs": [],
   "source": [
    "#\n",
    "# And\n",
    "#\n",
    "def and_activation(weighted_sum):\n",
    "    #\n",
    "    if weighted_sum >= 0:\n",
    "        return 1\n",
    "    else:\n",
    "        return 0\n",
    "#\n",
    "and_activation = np.vectorize(and_activation)\n",
    "#\n",
    "and_weights = np.array([1,1])\n",
    "and_bias    = -1.5\n",
    "#\n",
    "Y_and = and_activation(np.dot(X, and_weights) + and_bias)\n",
    "#\n",
    "print(\"AND function:\")\n",
    "print(Y_and)\n",
    "#"
   ]
  },
  {
   "cell_type": "markdown",
   "id": "1742b9eb",
   "metadata": {},
   "source": [
    "## OR"
   ]
  },
  {
   "cell_type": "code",
   "execution_count": null,
   "id": "0faaa8f9",
   "metadata": {},
   "outputs": [],
   "source": [
    "#\n",
    "# Or\n",
    "#\n",
    "def or_activation(weighted_sum):\n",
    "    #\n",
    "    if weighted_sum >= 0:\n",
    "        return 1\n",
    "    else:\n",
    "        return 0\n",
    "#\n",
    "or_activation = np.vectorize(or_activation)\n",
    "#\n",
    "or_weights = np.array([1,1])\n",
    "or_bias    = -0.5\n",
    "#\n",
    "Y_or = or_activation(np.dot(X, or_weights) + or_bias)\n",
    "#\n",
    "print(\"OR function:\")\n",
    "print(Y_or)\n",
    "#"
   ]
  },
  {
   "cell_type": "markdown",
   "id": "0b3b20f7",
   "metadata": {},
   "source": [
    "## XOR\n",
    "\n",
    "XOR can be thought of an ensemble of perceptrons in 2 layers\n",
    "\n",
    "Layer 1 contains 2 perceptrons - OR (as above), and NOT of AND (as above), this operation is called NAND\n",
    "\n",
    "Layer 2 contains 1 perceptron which AND's the output from OR and NAND to give XOR\n",
    "\n",
    "This is an interesting paper about XOR: *Bland R. (1998). Learning XOR: Exploring the Space of a Classic Problem. Technical report (University of Stirling. Dept. of Computing Science and Mathematics)*"
   ]
  },
  {
   "cell_type": "code",
   "execution_count": null,
   "id": "5c7f94e2",
   "metadata": {},
   "outputs": [],
   "source": [
    "#\n",
    "# Xor\n",
    "#\n",
    "Y_nand        = np.logical_not(Y_and).astype(int)\n",
    "layer_one_out = np.stack([Y_or, Y_nand]).reshape((4, 2))\n",
    "#\n",
    "Y_xor = and_activation(np.dot(layer_one_out, and_weights) + and_bias)\n",
    "#\n",
    "\n",
    "print(\"XOR function:\")\n",
    "print(Y_xor)\n",
    "#"
   ]
  }
 ],
 "metadata": {
  "kernelspec": {
   "display_name": "Python 3 (ipykernel)",
   "language": "python",
   "name": "python3"
  },
  "language_info": {
   "codemirror_mode": {
    "name": "ipython",
    "version": 3
   },
   "file_extension": ".py",
   "mimetype": "text/x-python",
   "name": "python",
   "nbconvert_exporter": "python",
   "pygments_lexer": "ipython3",
   "version": "3.9.7"
  }
 },
 "nbformat": 4,
 "nbformat_minor": 5
}
