{
  "nbformat": 4,
  "nbformat_minor": 0,
  "metadata": {
    "colab": {
      "provenance": [],
      "authorship_tag": "ABX9TyN8ZkSNXtI2THhEDGQUCyHX",
      "include_colab_link": true
    },
    "kernelspec": {
      "name": "python3",
      "display_name": "Python 3"
    },
    "language_info": {
      "name": "python"
    }
  },
  "cells": [
    {
      "cell_type": "markdown",
      "metadata": {
        "id": "view-in-github",
        "colab_type": "text"
      },
      "source": [
        "<a href=\"https://colab.research.google.com/github/kcl-bhi-is-01/ML_FHR_main/blob/main/ML_FHR_S06_L05_v01.ipynb\" target=\"_parent\"><img src=\"https://colab.research.google.com/assets/colab-badge.svg\" alt=\"Open In Colab\"/></a>"
      ]
    },
    {
      "cell_type": "markdown",
      "source": [
        "Here's a simple tutorial on how to perform k-fold cross-validation on a classification problem using the iris dataset from sklearn.datasets. We'll use a support vector machine (SVM) as the classifier. For visualization, we'll plot a confusion matrix."
      ],
      "metadata": {
        "id": "2xJAmHRVYBWq"
      }
    },
    {
      "cell_type": "markdown",
      "source": [
        "First, let's import the necessary libraries:"
      ],
      "metadata": {
        "id": "nSL3p1HoXU7g"
      }
    },
    {
      "cell_type": "code",
      "source": [
        "from sklearn import datasets\n",
        "from sklearn import svm\n",
        "from sklearn.model_selection import cross_val_score, KFold\n",
        "from sklearn.metrics import confusion_matrix, ConfusionMatrixDisplay\n",
        "import numpy as np\n",
        "import matplotlib.pyplot as plt"
      ],
      "metadata": {
        "id": "YinDoQY0XXTK"
      },
      "execution_count": 1,
      "outputs": []
    },
    {
      "cell_type": "markdown",
      "source": [
        "Next, we load the iris dataset:"
      ],
      "metadata": {
        "id": "OdekbRw3XWpW"
      }
    },
    {
      "cell_type": "code",
      "source": [
        "iris = datasets.load_iris()\n",
        "X = iris.data\n",
        "y = iris.target"
      ],
      "metadata": {
        "id": "B47iLcnMXb0W"
      },
      "execution_count": 2,
      "outputs": []
    },
    {
      "cell_type": "markdown",
      "source": [
        "We'll use a support vector classifier:"
      ],
      "metadata": {
        "id": "WbGyC-KtXWsC"
      }
    },
    {
      "cell_type": "code",
      "source": [
        "clf = svm.SVC(kernel='linear', C=1, random_state=42)"
      ],
      "metadata": {
        "id": "TSWur-O0XcP7"
      },
      "execution_count": 3,
      "outputs": []
    },
    {
      "cell_type": "markdown",
      "source": [
        "Next, we use k-fold cross-validation. Let's use k=5:\n"
      ],
      "metadata": {
        "id": "aZHUZbjnXWuq"
      }
    },
    {
      "cell_type": "code",
      "source": [
        "scores = cross_val_score(clf, X, y, cv=5)"
      ],
      "metadata": {
        "id": "HnoBH_3bXcp0"
      },
      "execution_count": 4,
      "outputs": []
    },
    {
      "cell_type": "markdown",
      "source": [
        "We can print the scores:"
      ],
      "metadata": {
        "id": "ySeSdRy-XWw6"
      }
    },
    {
      "cell_type": "code",
      "source": [
        "print('Cross-validation scores:', scores)\n",
        "print('Average cross-validation score:', scores.mean())"
      ],
      "metadata": {
        "colab": {
          "base_uri": "https://localhost:8080/"
        },
        "id": "kPjg30I8XdCv",
        "outputId": "60d1b5a4-954f-4424-e954-e9ec1f6eaf93"
      },
      "execution_count": 5,
      "outputs": [
        {
          "output_type": "stream",
          "name": "stdout",
          "text": [
            "Cross-validation scores: [0.96666667 1.         0.96666667 0.96666667 1.        ]\n",
            "Average cross-validation score: 0.9800000000000001\n"
          ]
        }
      ]
    },
    {
      "cell_type": "markdown",
      "source": [
        "To visualize the performance, we'll train the model on the whole dataset and create a confusion matrix:"
      ],
      "metadata": {
        "id": "EJsJ1L2cXdKe"
      }
    },
    {
      "cell_type": "code",
      "source": [
        "clf.fit(X, y)\n",
        "y_pred = clf.predict(X)\n",
        "\n",
        "cm = confusion_matrix(y, y_pred)\n",
        "disp = ConfusionMatrixDisplay(confusion_matrix=cm, display_labels=iris.target_names)\n",
        "disp.plot(cmap=plt.cm.Blues)\n",
        "plt.show()"
      ],
      "metadata": {
        "colab": {
          "base_uri": "https://localhost:8080/",
          "height": 455
        },
        "id": "p-Wd6kJJXdbC",
        "outputId": "31576b3c-5b7d-47d6-8a5e-bf0298fe9d38"
      },
      "execution_count": 6,
      "outputs": [
        {
          "output_type": "display_data",
          "data": {
            "text/plain": [
              "<Figure size 640x480 with 2 Axes>"
            ],
            "image/png": "[encoded data removed]"
          },
          "metadata": {}
        }
      ]
    },
    {
      "cell_type": "markdown",
      "source": [
        "The cross_val_score function performs k-fold cross-validation and returns the scores of the classifier for each fold. The mean of these scores gives an estimate of the classifier's performance.\n",
        "\n",
        "The confusion matrix visually represents the performance of the classifier, showing true and false positives and negatives. In a perfect classifier, all the values would be on the diagonal, indicating that all samples were correctly classified."
      ],
      "metadata": {
        "id": "lUa-QAeVXdgp"
      }
    }
  ]
}